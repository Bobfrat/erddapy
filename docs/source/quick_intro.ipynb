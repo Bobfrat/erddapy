{
 "cells": [
  {
   "cell_type": "markdown",
   "metadata": {},
   "source": [
    "# Quick introduction\n",
    "\n",
    "\n",
    "First we need to instantiate the `ERDDAP` URL constructor for a server.\n",
    "In this example we will use [https://data.ioos.us/gliders/erddap](https://data.ioos.us/gliders/erddap)."
   ]
  },
  {
   "cell_type": "code",
   "execution_count": 1,
   "metadata": {},
   "outputs": [],
   "source": [
    "from erddapy import ERDDAP\n",
    "\n",
    "\n",
    "server_url = 'https://data.ioos.us/gliders/erddap'\n",
    "\n",
    "e = ERDDAP(server_url=server_url)"
   ]
  },
  {
   "cell_type": "markdown",
   "metadata": {},
   "source": [
    "What are the methods/attributes available?"
   ]
  },
  {
   "cell_type": "code",
   "execution_count": 2,
   "metadata": {},
   "outputs": [
    {
     "data": {
      "text/plain": [
       "['download_options',\n",
       " 'get_download_url',\n",
       " 'get_info_url',\n",
       " 'get_opendap_url',\n",
       " 'get_search_url',\n",
       " 'get_var_by_attr',\n",
       " 'search_options',\n",
       " 'server_url']"
      ]
     },
     "execution_count": 2,
     "metadata": {},
     "output_type": "execute_result"
    }
   ],
   "source": [
    "[method for method in dir(e) if not method.startswith('_')]"
   ]
  },
  {
   "cell_type": "markdown",
   "metadata": {},
   "source": [
    "All the `get_<methods>` will return a valid `ERDDAP` URL for the requested response and options.\n",
    "`erddapy` will raise an error is if URL HEADER cannot be validated."
   ]
  },
  {
   "cell_type": "code",
   "execution_count": 3,
   "metadata": {},
   "outputs": [
    {
     "name": "stdout",
     "output_type": "stream",
     "text": [
      "https://data.ioos.us/gliders/erddap/search/advanced.html?page=1&itemsPerPage=1000&protocol=(ANY)&cdm_data_type=(ANY)&institution=(ANY)&ioos_category=(ANY)&keywords=(ANY)&long_name=(ANY)&standard_name=(ANY)&variableName=(ANY)&minLon=(ANY)&maxLon=(ANY)&minLat=(ANY)&maxLat=(ANY)&minTime=(ANY)&maxTime=(ANY)&searchFor=all\n"
     ]
    }
   ],
   "source": [
    "print(e.get_search_url(response='.html', search_for='all'))"
   ]
  },
  {
   "cell_type": "markdown",
   "metadata": {},
   "source": [
    "There are many responses available, see the docs for [griddap](http://coastwatch.pfeg.noaa.gov/erddap/griddap/documentation.html) and\n",
    "[tabledap](http://coastwatch.pfeg.noaa.gov/erddap/tabledap/documentation.html) respectively.\n",
    "The most useful ones for Pythonistas are the `.csv` and `.nc` that can be read with pandas and netCDF4-python respectively.\n",
    "\n",
    "Let's load the `csv` reponse directly with `pandas`."
   ]
  },
  {
   "cell_type": "code",
   "execution_count": 4,
   "metadata": {},
   "outputs": [],
   "source": [
    "import pandas as pd\n",
    "\n",
    "\n",
    "df = pd.read_csv(e.get_search_url(response='csv', search_for='all'))"
   ]
  },
  {
   "cell_type": "code",
   "execution_count": 5,
   "metadata": {},
   "outputs": [
    {
     "data": {
      "text/plain": [
       "'We have 291 tabledap, 0 griddap, and 0 wms endpoints.'"
      ]
     },
     "execution_count": 5,
     "metadata": {},
     "output_type": "execute_result"
    }
   ],
   "source": [
    "'We have {} tabledap, {} griddap, and {} wms endpoints.'.format(\n",
    "    len(set(df['tabledap'].dropna())),\n",
    "    len(set(df['griddap'].dropna())),\n",
    "    len(set(df['wms'].dropna()))\n",
    ")"
   ]
  },
  {
   "cell_type": "markdown",
   "metadata": {},
   "source": [
    "We can refine our search by providing some constraints."
   ]
  },
  {
   "cell_type": "code",
   "execution_count": 6,
   "metadata": {},
   "outputs": [],
   "source": [
    "def show_iframe(src):\n",
    "    \"\"\"Helper function to show HTML returns.\"\"\"\n",
    "    from IPython.display import HTML\n",
    "    iframe = '<iframe src=\"{src}\" width=\"100%\" height=\"950\"></iframe>'.format\n",
    "    return HTML(iframe(src=src))"
   ]
  },
  {
   "cell_type": "markdown",
   "metadata": {},
   "source": [
    "Let's narrow the search area, time span, and look for `sea_water_temperature` only."
   ]
  },
  {
   "cell_type": "code",
   "execution_count": 7,
   "metadata": {},
   "outputs": [],
   "source": [
    "import pendulum\n",
    "\n",
    "min_time = pendulum.parse('2016-07-10T00:00:00Z')\n",
    "max_time = pendulum.parse('2017-02-10T00:00:00Z')\n",
    "\n",
    "min_lat, max_lat =  38.0, 41.0\n",
    "min_lon, max_lon = -72.0, -69.0\n",
    "\n",
    "standard_name = 'sea_water_temperature'"
   ]
  },
  {
   "cell_type": "code",
   "execution_count": 8,
   "metadata": {},
   "outputs": [
    {
     "data": {
      "text/html": [
       "<iframe src=\"https://data.ioos.us/gliders/erddap/search/advanced.html?page=1&itemsPerPage=1000&protocol=(ANY)&cdm_data_type=trajectoryprofile&institution=(ANY)&ioos_category=(ANY)&keywords=(ANY)&long_name=(ANY)&standard_name=sea_water_temperature&variableName=(ANY)&minLon=-72.0&maxLon=-69.0&minLat=38.0&maxLat=41.0&minTime=1468108800.0&maxTime=1486684800.0\" width=\"100%\" height=\"950\"></iframe>"
      ],
      "text/plain": [
       "<IPython.core.display.HTML object>"
      ]
     },
     "execution_count": 8,
     "metadata": {},
     "output_type": "execute_result"
    }
   ],
   "source": [
    "kw = {\n",
    "    'standard_name': standard_name,\n",
    "    'min_lat': min_lat,\n",
    "    'max_lat': max_lat,\n",
    "    'min_lon': min_lon,\n",
    "    'max_lon': max_lon,\n",
    "    'min_time': min_time,\n",
    "    'max_time': max_time,\n",
    "    'cdm_data_type': 'trajectoryprofile'\n",
    "}\n",
    "\n",
    "search_url = e.get_search_url(response='html', **kw)\n",
    "\n",
    "show_iframe(search_url)\n",
    "\n",
    "search_url = e.get_search_url(response='html', **kw)\n",
    "\n",
    "show_iframe(search_url)"
   ]
  },
  {
   "cell_type": "markdown",
   "metadata": {},
   "source": [
    "We can see that the search form above was correctly populated with the constraints we provided.\n",
    "\n",
    "Let us change the response from `.html` to `.csv`,\n",
    "so we load it as a `pandas.DataFrame`,\n",
    "and inspect what are the `Dataset ID`s available for download.\n",
    "\n",
    "Note that the optional constraints are kept in a `dict`,\n",
    "making if easy to reuse, update or just inspect what where the original parameters used."
   ]
  },
  {
   "cell_type": "code",
   "execution_count": 9,
   "metadata": {},
   "outputs": [
    {
     "data": {
      "text/plain": [
       "{'cdm_data_type': 'trajectoryprofile',\n",
       " 'institution': '(ANY)',\n",
       " 'ioos_category': '(ANY)',\n",
       " 'itemsPerPage': 1000,\n",
       " 'keywords': '(ANY)',\n",
       " 'long_name': '(ANY)',\n",
       " 'maxLat': 41.0,\n",
       " 'maxLon': -69.0,\n",
       " 'maxTime': 1486684800.0,\n",
       " 'minLat': 38.0,\n",
       " 'minLon': -72.0,\n",
       " 'minTime': 1468108800.0,\n",
       " 'page': 1,\n",
       " 'protocol': '(ANY)',\n",
       " 'response': 'html',\n",
       " 'searchFor': None,\n",
       " 'server_url': 'https://data.ioos.us/gliders/erddap',\n",
       " 'standard_name': 'sea_water_temperature',\n",
       " 'variableName': '(ANY)'}"
      ]
     },
     "execution_count": 9,
     "metadata": {},
     "output_type": "execute_result"
    }
   ],
   "source": [
    "e.search_options"
   ]
  },
  {
   "cell_type": "code",
   "execution_count": 10,
   "metadata": {},
   "outputs": [
    {
     "name": "stdout",
     "output_type": "stream",
     "text": [
      "Found 5 Glider Datasets:\n",
      "blue-20160818T1448\n",
      "cp_336-20170116T1254\n",
      "silbo-20160413T1534\n",
      "sp022-20170209T1616\n",
      "whoi_406-20160902T1700\n"
     ]
    }
   ],
   "source": [
    "search_url = e.get_search_url(response='csv', **kw)\n",
    "search = pd.read_csv(search_url)\n",
    "gliders = search['Dataset ID'].values\n",
    "\n",
    "print('Found {} Glider Datasets:\\n{}'.format(len(gliders), '\\n'.join(gliders)))"
   ]
  },
  {
   "cell_type": "markdown",
   "metadata": {},
   "source": [
    "Now that we know the `Dataset ID`s we can explore their metadata with the `get_info_url` method."
   ]
  },
  {
   "cell_type": "code",
   "execution_count": 11,
   "metadata": {},
   "outputs": [
    {
     "data": {
      "text/html": [
       "<iframe src=\"https://data.ioos.us/gliders/erddap/info/blue-20160818T1448/index.html\" width=\"100%\" height=\"950\"></iframe>"
      ],
      "text/plain": [
       "<IPython.core.display.HTML object>"
      ]
     },
     "execution_count": 11,
     "metadata": {},
     "output_type": "execute_result"
    }
   ],
   "source": [
    "info_url = e.get_info_url(dataset_id=gliders[0], response='html')\n",
    "\n",
    "show_iframe(src=info_url)"
   ]
  },
  {
   "cell_type": "markdown",
   "metadata": {},
   "source": [
    "Again, with the `csv` response, we can manipulate the metadata and find the variables that have the `cdm_profile_variables` attribute."
   ]
  },
  {
   "cell_type": "code",
   "execution_count": 12,
   "metadata": {},
   "outputs": [
    {
     "data": {
      "text/html": [
       "<div>\n",
       "<style scoped>\n",
       "    .dataframe tbody tr th:only-of-type {\n",
       "        vertical-align: middle;\n",
       "    }\n",
       "\n",
       "    .dataframe tbody tr th {\n",
       "        vertical-align: top;\n",
       "    }\n",
       "\n",
       "    .dataframe thead th {\n",
       "        text-align: right;\n",
       "    }\n",
       "</style>\n",
       "<table border=\"1\" class=\"dataframe\">\n",
       "  <thead>\n",
       "    <tr style=\"text-align: right;\">\n",
       "      <th></th>\n",
       "      <th>Row Type</th>\n",
       "      <th>Variable Name</th>\n",
       "      <th>Attribute Name</th>\n",
       "      <th>Data Type</th>\n",
       "      <th>Value</th>\n",
       "    </tr>\n",
       "  </thead>\n",
       "  <tbody>\n",
       "    <tr>\n",
       "      <th>0</th>\n",
       "      <td>attribute</td>\n",
       "      <td>NC_GLOBAL</td>\n",
       "      <td>acknowledgement</td>\n",
       "      <td>String</td>\n",
       "      <td>This deployment supported by NOAA U.S. IOOS</td>\n",
       "    </tr>\n",
       "    <tr>\n",
       "      <th>1</th>\n",
       "      <td>attribute</td>\n",
       "      <td>NC_GLOBAL</td>\n",
       "      <td>cdm_data_type</td>\n",
       "      <td>String</td>\n",
       "      <td>TrajectoryProfile</td>\n",
       "    </tr>\n",
       "    <tr>\n",
       "      <th>2</th>\n",
       "      <td>attribute</td>\n",
       "      <td>NC_GLOBAL</td>\n",
       "      <td>cdm_profile_variables</td>\n",
       "      <td>String</td>\n",
       "      <td>profile_id, time, latitude, longitude, time_uv...</td>\n",
       "    </tr>\n",
       "    <tr>\n",
       "      <th>3</th>\n",
       "      <td>attribute</td>\n",
       "      <td>NC_GLOBAL</td>\n",
       "      <td>cdm_trajectory_variables</td>\n",
       "      <td>String</td>\n",
       "      <td>trajectory, wmo_id</td>\n",
       "    </tr>\n",
       "    <tr>\n",
       "      <th>4</th>\n",
       "      <td>attribute</td>\n",
       "      <td>NC_GLOBAL</td>\n",
       "      <td>comment</td>\n",
       "      <td>String</td>\n",
       "      <td>Glider deployed by the University of Massachus...</td>\n",
       "    </tr>\n",
       "  </tbody>\n",
       "</table>\n",
       "</div>"
      ],
      "text/plain": [
       "    Row Type Variable Name            Attribute Name Data Type  \\\n",
       "0  attribute     NC_GLOBAL           acknowledgement    String   \n",
       "1  attribute     NC_GLOBAL             cdm_data_type    String   \n",
       "2  attribute     NC_GLOBAL     cdm_profile_variables    String   \n",
       "3  attribute     NC_GLOBAL  cdm_trajectory_variables    String   \n",
       "4  attribute     NC_GLOBAL                   comment    String   \n",
       "\n",
       "                                               Value  \n",
       "0        This deployment supported by NOAA U.S. IOOS  \n",
       "1                                  TrajectoryProfile  \n",
       "2  profile_id, time, latitude, longitude, time_uv...  \n",
       "3                                 trajectory, wmo_id  \n",
       "4  Glider deployed by the University of Massachus...  "
      ]
     },
     "execution_count": 12,
     "metadata": {},
     "output_type": "execute_result"
    }
   ],
   "source": [
    "info_url = e.get_info_url(dataset_id=gliders[0], response='csv')\n",
    "\n",
    "info = pd.read_csv(info_url)\n",
    "\n",
    "info.head()"
   ]
  },
  {
   "cell_type": "code",
   "execution_count": 13,
   "metadata": {},
   "outputs": [
    {
     "data": {
      "text/plain": [
       "'profile_id, time, latitude, longitude, time_uv, lat_uv, lon_uv, u, v'"
      ]
     },
     "execution_count": 13,
     "metadata": {},
     "output_type": "execute_result"
    }
   ],
   "source": [
    "''.join(info.loc[info['Attribute Name'] == 'cdm_profile_variables', 'Value'])"
   ]
  },
  {
   "cell_type": "markdown",
   "metadata": {},
   "source": [
    "Selecting variables by theirs attributes is such a common operation that `erddapy` brings its own method to simplify this task.\n",
    "\n",
    "The `get_var_by_attr` method is inspired by `netCDF4-python`'s `get_variables_by_attributes` however, because `erddapy` is operating on remote serves, it will return the variable names instead of the actual variables.\n",
    "\n",
    "Here we check what is/are the variable(s) associated with the `standard_name` used in the search.\n",
    "\n",
    "Note that `get_var_by_attr` caches the last response in case the user needs to make multiple requests,\n",
    "but it will loose its state when a new request is made.\n",
    "\n",
    "(See the execution times below.)"
   ]
  },
  {
   "cell_type": "code",
   "execution_count": 14,
   "metadata": {},
   "outputs": [
    {
     "name": "stdout",
     "output_type": "stream",
     "text": [
      "CPU times: user 166 ms, sys: 7.99 ms, total: 174 ms\n",
      "Wall time: 1.8 s\n"
     ]
    },
    {
     "data": {
      "text/plain": [
       "['temperature']"
      ]
     },
     "execution_count": 14,
     "metadata": {},
     "output_type": "execute_result"
    }
   ],
   "source": [
    "%%time\n",
    "\n",
    "# First one, slow.\n",
    "e.get_var_by_attr(\n",
    "    dataset_id='blue-20160818T1448',\n",
    "    standard_name='sea_water_temperature'\n",
    ")"
   ]
  },
  {
   "cell_type": "code",
   "execution_count": 15,
   "metadata": {},
   "outputs": [
    {
     "name": "stdout",
     "output_type": "stream",
     "text": [
      "CPU times: user 19.1 ms, sys: 12.5 ms, total: 31.6 ms\n",
      "Wall time: 787 ms\n"
     ]
    },
    {
     "data": {
      "text/plain": [
       "['salinity']"
      ]
     },
     "execution_count": 15,
     "metadata": {},
     "output_type": "execute_result"
    }
   ],
   "source": [
    "%%time\n",
    "\n",
    "# Second one on the same glider, fast.\n",
    "e.get_var_by_attr(\n",
    "    dataset_id='blue-20160818T1448',\n",
    "    standard_name='sea_water_practical_salinity'\n",
    ")"
   ]
  },
  {
   "cell_type": "code",
   "execution_count": 16,
   "metadata": {},
   "outputs": [
    {
     "name": "stdout",
     "output_type": "stream",
     "text": [
      "CPU times: user 174 ms, sys: 7.3 ms, total: 181 ms\n",
      "Wall time: 1.77 s\n"
     ]
    },
    {
     "data": {
      "text/plain": [
       "['salinity']"
      ]
     },
     "execution_count": 16,
     "metadata": {},
     "output_type": "execute_result"
    }
   ],
   "source": [
    "%%time\n",
    "\n",
    "# New one, slow.\n",
    "e.get_var_by_attr(\n",
    "    dataset_id='cp_336-20170116T1254',\n",
    "    standard_name='sea_water_practical_salinity'\n",
    ")"
   ]
  },
  {
   "cell_type": "markdown",
   "metadata": {},
   "source": [
    "With Python it is easy to loop over all the `dataset_id`s for the variables with `standard_names`"
   ]
  },
  {
   "cell_type": "code",
   "execution_count": 17,
   "metadata": {},
   "outputs": [],
   "source": [
    "variables = [e.get_var_by_attr(dataset_id=glider, standard_name=lambda v: v is not None) for glider in gliders]"
   ]
  },
  {
   "cell_type": "markdown",
   "metadata": {},
   "source": [
    "We can construct a `set` with the common variables in those `dataset_id`s."
   ]
  },
  {
   "cell_type": "code",
   "execution_count": 18,
   "metadata": {},
   "outputs": [
    {
     "data": {
      "text/plain": [
       "{'conductivity',\n",
       " 'conductivity_qc',\n",
       " 'density',\n",
       " 'density_qc',\n",
       " 'depth',\n",
       " 'depth_qc',\n",
       " 'lat_uv',\n",
       " 'lat_uv_qc',\n",
       " 'latitude',\n",
       " 'latitude_qc',\n",
       " 'lon_uv',\n",
       " 'lon_uv_qc',\n",
       " 'longitude',\n",
       " 'longitude_qc',\n",
       " 'precise_lat',\n",
       " 'precise_lon',\n",
       " 'precise_time',\n",
       " 'precise_time_qc',\n",
       " 'pressure',\n",
       " 'pressure_qc',\n",
       " 'salinity',\n",
       " 'salinity_qc',\n",
       " 'temperature',\n",
       " 'temperature_qc',\n",
       " 'time',\n",
       " 'time_qc',\n",
       " 'time_uv',\n",
       " 'time_uv_qc',\n",
       " 'u',\n",
       " 'u_qc',\n",
       " 'v',\n",
       " 'v_qc'}"
      ]
     },
     "execution_count": 18,
     "metadata": {},
     "output_type": "execute_result"
    }
   ],
   "source": [
    "common_variables = set(variables[0]).intersection(*variables[1:])\n",
    "\n",
    "common_variables"
   ]
  },
  {
   "cell_type": "markdown",
   "metadata": {},
   "source": [
    "Last, but not least, the download endpoint!\n",
    "\n",
    "It is important to note that the download constraints are based on the variables names and not the standardized ones for the `get_search_url` method."
   ]
  },
  {
   "cell_type": "code",
   "execution_count": 19,
   "metadata": {},
   "outputs": [
    {
     "data": {
      "text/plain": [
       "'https://data.ioos.us/gliders/erddap/tabledap/blue-20160818T1448.html?precise_lon,pressure_qc,v_qc,depth,density,density_qc,time_uv,depth_qc,conductivity_qc,temperature_qc,latitude_qc,precise_time_qc,lon_uv,time_uv_qc,u,lon_uv_qc,longitude_qc,salinity,u_qc,longitude,pressure,temperature,lat_uv,v,time,salinity_qc,precise_time,conductivity,time_qc,lat_uv_qc,latitude,precise_lat&time>=2016-07-10T00:00:00+00:00&time<=2017-02-10T00:00:00+00:00&latitude>=38.0&latitude<=41.0&longitude>=-72.0&longitude<=-69.0'"
      ]
     },
     "execution_count": 19,
     "metadata": {},
     "output_type": "execute_result"
    }
   ],
   "source": [
    "kwargs = {\n",
    "    'time>=': min_time,\n",
    "    'time<=': max_time,\n",
    "    'latitude>=': min_lat,\n",
    "    'latitude<=': max_lat,\n",
    "    'longitude>=': min_lon,\n",
    "    'longitude<=': max_lon,\n",
    "}\n",
    "\n",
    "\n",
    "download_url = e.get_download_url(dataset_id=gliders[0], variables=common_variables, response='html', **kwargs)\n",
    "\n",
    "download_url"
   ]
  },
  {
   "cell_type": "code",
   "execution_count": 20,
   "metadata": {},
   "outputs": [
    {
     "data": {
      "text/plain": [
       "{'latitude<=': 41.0,\n",
       " 'latitude>=': 38.0,\n",
       " 'longitude<=': -69.0,\n",
       " 'longitude>=': -72.0,\n",
       " 'time<=': <Pendulum [2017-02-10T00:00:00+00:00]>,\n",
       " 'time>=': <Pendulum [2016-07-10T00:00:00+00:00]>}"
      ]
     },
     "execution_count": 20,
     "metadata": {},
     "output_type": "execute_result"
    }
   ],
   "source": [
    "e.download_options"
   ]
  },
  {
   "cell_type": "markdown",
   "metadata": {},
   "source": [
    "Putting everything in `DataFrame`s."
   ]
  },
  {
   "cell_type": "code",
   "execution_count": 21,
   "metadata": {},
   "outputs": [
    {
     "name": "stdout",
     "output_type": "stream",
     "text": [
      "Failed to download silbo-20160413T1534\n",
      "Failed to download sp022-20170209T1616\n"
     ]
    }
   ],
   "source": [
    "from requests.exceptions import HTTPError\n",
    "\n",
    "\n",
    "def download_csv(url):\n",
    "    return pd.read_csv(url, index_col='time', parse_dates=True, skiprows=[1])\n",
    "\n",
    "\n",
    "dfs = {}\n",
    "for glider in gliders:\n",
    "    try:\n",
    "        download_url = e.get_download_url(dataset_id=glider, variables=common_variables, response='csv', **kwargs)\n",
    "    except HTTPError:\n",
    "        print('Failed to download {}'.format(glider))\n",
    "        continue\n",
    "    dfs.update({glider: download_csv(download_url)})"
   ]
  },
  {
   "cell_type": "markdown",
   "metadata": {},
   "source": [
    "It is unclear to me why `ERDDAP` found two datasets with the constraints provided but failed to generate an URL for the download."
   ]
  },
  {
   "cell_type": "code",
   "execution_count": 22,
   "metadata": {},
   "outputs": [
    {
     "name": "stdout",
     "output_type": "stream",
     "text": [
      "500 Server Error: Internal Server Error for url: https://data.ioos.us/gliders/erddap/tabledap/silbo-20160413T1534.csv?precise_lon,pressure_qc,v_qc,depth,density,density_qc,time_uv,depth_qc,conductivity_qc,temperature_qc,latitude_qc,precise_time_qc,lon_uv,time_uv_qc,u,lon_uv_qc,longitude_qc,salinity,u_qc,longitude,pressure,temperature,lat_uv,v,time,salinity_qc,precise_time,conductivity,time_qc,lat_uv_qc,latitude,precise_lat&time%3E=2016-07-10T00:00:00+00:00&time%3C=2017-02-10T00:00:00+00:00&latitude%3E=38.0&latitude%3C=41.0&longitude%3E=-72.0&longitude%3C=-69.0\n"
     ]
    }
   ],
   "source": [
    "try:\n",
    "    e.get_download_url(\n",
    "        dataset_id='silbo-20160413T1534',\n",
    "        variables=common_variables,\n",
    "        response='csv',\n",
    "        **kwargs\n",
    "    )\n",
    "except Exception as err:\n",
    "    print(err)"
   ]
  },
  {
   "cell_type": "markdown",
   "metadata": {},
   "source": [
    "The glider datasets should be masked automatically but we found that is not true.\n",
    "The cell below applies the mask as described by the data QC flag."
   ]
  },
  {
   "cell_type": "code",
   "execution_count": 23,
   "metadata": {},
   "outputs": [],
   "source": [
    "import numpy as np\n",
    "\n",
    "\n",
    "for glider in dfs.keys():\n",
    "    dfs[glider].loc[dfs[glider]['salinity_qc'] == 9, 'salinity'] = np.NaN\n",
    "    dfs[glider].loc[dfs[glider]['pressure_qc'] == 9, 'pressure'] = np.NaN\n",
    "    dfs[glider].loc[dfs[glider]['temperature_qc'] == 9, 'temperature'] = np.NaN\n",
    "    dfs[glider].loc[dfs[glider]['salinity'] <= 0, 'salinity'] = np.NaN"
   ]
  },
  {
   "cell_type": "markdown",
   "metadata": {},
   "source": [
    "Finally let's see some figures!"
   ]
  },
  {
   "cell_type": "code",
   "execution_count": 24,
   "metadata": {},
   "outputs": [
    {
     "data": {
      "image/png": "[encoded data removed]",
      "text/plain": [
       "<matplotlib.figure.Figure at 0x7f12ccbbdc88>"
      ]
     },
     "metadata": {},
     "output_type": "display_data"
    }
   ],
   "source": [
    "%matplotlib inline\n",
    "import matplotlib.pyplot as plt\n",
    "import cartopy.crs as ccrs\n",
    "from cartopy.mpl.ticker import LongitudeFormatter, LatitudeFormatter\n",
    "\n",
    "\n",
    "def make_map(extent):\n",
    "    fig, ax = plt.subplots(\n",
    "        figsize=(9, 9),\n",
    "        subplot_kw=dict(projection=ccrs.PlateCarree())\n",
    "    )\n",
    "    ax.coastlines(resolution='10m')\n",
    "    ax.set_extent(extent)\n",
    "\n",
    "    ax.set_xticks([extent[0], extent[1]], crs=ccrs.PlateCarree())\n",
    "    ax.set_yticks([extent[2], extent[3]], crs=ccrs.PlateCarree())\n",
    "    lon_formatter = LongitudeFormatter(zero_direction_label=True)\n",
    "    lat_formatter = LatitudeFormatter()\n",
    "    ax.xaxis.set_major_formatter(lon_formatter)\n",
    "    ax.yaxis.set_major_formatter(lat_formatter)\n",
    "\n",
    "    return fig, ax\n",
    "\n",
    "\n",
    "dx = dy = 0.5\n",
    "extent = min_lon-dx, max_lon+dx, min_lat+dy, max_lat+dy\n",
    "\n",
    "fig, ax = make_map(extent)\n",
    "for glider, df in dfs.items():\n",
    "    ax.plot(df['longitude'], df['latitude'], label=glider)\n",
    "\n",
    "leg = ax.legend()"
   ]
  },
  {
   "cell_type": "code",
   "execution_count": 25,
   "metadata": {},
   "outputs": [
    {
     "data": {
      "image/png": "[encoded data removed]",
      "text/plain": [
       "<matplotlib.figure.Figure at 0x7f12ccbda198>"
      ]
     },
     "metadata": {},
     "output_type": "display_data"
    }
   ],
   "source": [
    "def glider_scatter(df, ax, glider):\n",
    "    ax.scatter(df['temperature'], df['salinity'],\n",
    "               s=10, alpha=0.5, label=glider)\n",
    "\n",
    "fig, ax = plt.subplots(figsize=(9, 9))\n",
    "ax.set_ylabel('salinity')\n",
    "ax.set_xlabel('temperature')\n",
    "ax.grid(True)\n",
    "\n",
    "for glider, df in dfs.items():\n",
    "    glider_scatter(df, ax, glider)\n",
    "\n",
    "leg = ax.legend()"
   ]
  },
  {
   "cell_type": "markdown",
   "metadata": {},
   "source": [
    "## Extras\n",
    "\n",
    "### OPeNDAP response"
   ]
  },
  {
   "cell_type": "code",
   "execution_count": 26,
   "metadata": {},
   "outputs": [
    {
     "name": "stdout",
     "output_type": "stream",
     "text": [
      "Getting data from https://data.ioos.us/gliders/erddap/tabledap/cp_336-20170116T1254\n",
      "\n",
      "The Pioneer Array is located off the coast of New England, south of Martha's Vineyard. The Continental Shelf-Slope area off the New England coast is a highly productive area and one that is located at a dynamic intersection where ocean currents meet in weather-like 'fronts', and where nutrients, pollutants, and other properties are exchanged between the coast and the deep ocean. Data from the inshore, shelf area helps to examine exchanges between the shelf and slope and the shelf ecosystem, as well as provide broader insight into the issues of air-sea gas exchange, including Carbon Dioxide. In order to provide synoptic, multi-scale observations of the outer continental shelf, shelf break region, and continental slope, the moored portion of the Pioneer Array is supplemented by six Coastal Gliders. The role of the Coastal Gliders is to monitor the mesoscale field of the slope sea and outer shelf, resolving rings, eddies and meanders from the Gulf Stream as they impinge on the shelf break front.  This dataset contains profiles of conductivity, temperature, depth, salinity and density, which are either measured or derived from the CTD measurements.\n"
     ]
    }
   ],
   "source": [
    "from netCDF4 import Dataset\n",
    "\n",
    "opendap_url = e.get_opendap_url('cp_336-20170116T1254')\n",
    "print('Getting data from {}\\n'.format(opendap_url))\n",
    "with Dataset(opendap_url) as nc:\n",
    "    print(nc.summary)"
   ]
  },
  {
   "cell_type": "markdown",
   "metadata": {},
   "source": [
    "### netCDF \"file-like\" to xarray\n",
    "\n",
    "`open_dataset` will download a temporary file,\n",
    "so be careful with the constraints to avoid downloading several gigabytes!"
   ]
  },
  {
   "cell_type": "code",
   "execution_count": 27,
   "metadata": {},
   "outputs": [
    {
     "data": {
      "text/plain": [
       "'2.1 MB'"
      ]
     },
     "execution_count": 27,
     "metadata": {},
     "output_type": "execute_result"
    }
   ],
   "source": [
    "import requests\n",
    "\n",
    "\n",
    "def humansize(nbytes):\n",
    "    suffixes = ['B', 'KB', 'MB', 'GB', 'TB', 'PB']\n",
    "    k = 0\n",
    "    while nbytes >= 1024 and k < len(suffixes)-1:\n",
    "        nbytes /= 1024.\n",
    "        k += 1\n",
    "    f = ('%.2f' % nbytes).rstrip('0').rstrip('.')\n",
    "    return '%s %s' % (f, suffixes[k])\n",
    "\n",
    "r = requests.head(download_url)\n",
    "nbytes = float(r.headers['Content-Length'])\n",
    "humansize(nbytes)"
   ]
  },
  {
   "cell_type": "markdown",
   "metadata": {},
   "source": [
    "That is the uncompressed size, we are OK because the download will be less than that, `ERDDAP` streams gzip'ed data."
   ]
  },
  {
   "cell_type": "code",
   "execution_count": 28,
   "metadata": {},
   "outputs": [
    {
     "data": {
      "text/plain": [
       "'gzip'"
      ]
     },
     "execution_count": 28,
     "metadata": {},
     "output_type": "execute_result"
    }
   ],
   "source": [
    "r.headers['Content-Encoding']"
   ]
  },
  {
   "cell_type": "code",
   "execution_count": 29,
   "metadata": {
    "scrolled": false
   },
   "outputs": [
    {
     "data": {
      "text/plain": [
       "<xarray.Dataset>\n",
       "Dimensions:          (row: 16232)\n",
       "Coordinates:\n",
       "    depth            (row) float64 ...\n",
       "    time_uv          (row) datetime64[ns] ...\n",
       "    lon_uv           (row) float64 ...\n",
       "    longitude        (row) float64 ...\n",
       "    lat_uv           (row) float64 ...\n",
       "    time             (row) datetime64[ns] ...\n",
       "    latitude         (row) float64 ...\n",
       "Dimensions without coordinates: row\n",
       "Data variables:\n",
       "    precise_lon      (row) float64 ...\n",
       "    pressure_qc      (row) float64 ...\n",
       "    v_qc             (row) float64 ...\n",
       "    density          (row) float64 ...\n",
       "    density_qc       (row) float64 ...\n",
       "    depth_qc         (row) float64 ...\n",
       "    conductivity_qc  (row) float64 ...\n",
       "    temperature_qc   (row) float64 ...\n",
       "    latitude_qc      (row) float64 ...\n",
       "    precise_time_qc  (row) float64 ...\n",
       "    time_uv_qc       (row) float64 ...\n",
       "    u                (row) float64 ...\n",
       "    lon_uv_qc        (row) float64 ...\n",
       "    longitude_qc     (row) float64 ...\n",
       "    salinity         (row) float64 ...\n",
       "    u_qc             (row) float64 ...\n",
       "    pressure         (row) float64 ...\n",
       "    temperature      (row) float64 ...\n",
       "    v                (row) float64 ...\n",
       "    salinity_qc      (row) float64 ...\n",
       "    precise_time     (row) datetime64[ns] ...\n",
       "    conductivity     (row) float64 ...\n",
       "    time_qc          (row) float64 ...\n",
       "    lat_uv_qc        (row) float64 ...\n",
       "    precise_lat      (row) float64 ...\n",
       "Attributes:\n",
       "    acknowledgement:               Funding provided by the National Science F...\n",
       "    cdm_data_type:                 TrajectoryProfile\n",
       "    cdm_profile_variables:         profile_id, time, latitude, longitude, tim...\n",
       "    cdm_trajectory_variables:      trajectory, wmo_id\n",
       "    contributor_name:              Paul Matthias,Peter Brickley,Sheri White,D...\n",
       "    contributor_role:              CGSN Program Manager,CGSN Operations Engin...\n",
       "    Conventions:                   Unidata Dataset Discovery v1.0, COARDS, CF...\n",
       "    creator_email:                 kerfoot@marine.rutgers.edu\n",
       "    creator_name:                  John Kerfoot\n",
       "    creator_url:                   http://rucool.marine.rutgers.edu\n",
       "    date_created:                  2017-04-19T14:33:41Z\n",
       "    date_issued:                   2017-04-19T14:33:41Z\n",
       "    date_modified:                 2017-04-19T14:33:41Z\n",
       "    deployment_number:             4\n",
       "    Easternmost_Easting:           -69.98303682074565\n",
       "    featureType:                   TrajectoryProfile\n",
       "    format_version:                https://github.com/ioos/ioosngdac/tree/mas...\n",
       "    geospatial_lat_max:            39.91726417227544\n",
       "    geospatial_lat_min:            39.32370673037986\n",
       "    geospatial_lat_units:          degrees_north\n",
       "    geospatial_lon_max:            -69.98303682074565\n",
       "    geospatial_lon_min:            -71.18259602604894\n",
       "    geospatial_lon_units:          degrees_east\n",
       "    geospatial_vertical_max:       976.756\n",
       "    geospatial_vertical_min:       -0.03969577\n",
       "    geospatial_vertical_positive:  down\n",
       "    geospatial_vertical_units:     m\n",
       "    history:                       2017-04-19T14:33:35Z: Data Source /Users/k...\n",
       "    id:                            cp_336-20170116T1254_e698_69e3_e309\n",
       "    infoUrl:                       http://data.ioos.us/gliders/erddap/\n",
       "    institution:                   Ocean Observatories Initiative\n",
       "    ioos_dac_checksum:             f42b729c0bf19af1b7229b21350ebaaf\n",
       "    ioos_dac_completed:            False\n",
       "    keywords:                      AUVS > Autonomous Underwater Vehicles, Oce...\n",
       "    keywords_vocabulary:           GCMD Science Keywords\n",
       "    license:                       All OOI data including data from OOI core ...\n",
       "    Metadata_Conventions:          Unidata Dataset Discovery v1.0, COARDS, CF...\n",
       "    metadata_link:                 http://ooi.visualocean.net/sites/view/CP05...\n",
       "    naming_authority:              org.oceanobservatories\n",
       "    Northernmost_Northing:         39.91726417227544\n",
       "    platform_type:                 Slocum Glider\n",
       "    processing_level:              Contains any/all of the following: L0 Data...\n",
       "    project:                       Ocean Observatories Initiative\n",
       "    publisher_email:               kerfoot@marine.rutgers.edu\n",
       "    publisher_name:                John Kerfoot\n",
       "    publisher_url:                 http://rucool.marine.rutgers.edu\n",
       "    references:                    http://oceanobservatories.org/\n",
       "    sea_name:                      Mid-Atlantic Bight\n",
       "    source:                        Observational data from a profiling glider\n",
       "    sourceUrl:                     (local files)\n",
       "    Southernmost_Northing:         39.32370673037986\n",
       "    standard_name_vocabulary:      CF Standard Name Table v27\n",
       "    subsetVariables:               trajectory, wmo_id, profile_id, time, lati...\n",
       "    summary:                       The Pioneer Array is located off the coast...\n",
       "    time_coverage_end:             2017-02-09T23:03:25Z\n",
       "    time_coverage_start:           2017-01-16T13:03:04Z\n",
       "    title:                         cp_336-20170116T1254\n",
       "    Westernmost_Easting:           -71.18259602604894"
      ]
     },
     "execution_count": 29,
     "metadata": {},
     "output_type": "execute_result"
    }
   ],
   "source": [
    "from erddapy import open_dataset\n",
    "\n",
    "download_url = e.get_download_url(\n",
    "    dataset_id='cp_336-20170116T1254',\n",
    "    response='nc',\n",
    "    variables=common_variables,\n",
    "    **kwargs,\n",
    ")\n",
    "\n",
    "ds = open_dataset(\n",
    "    download_url,\n",
    ")\n",
    "\n",
    "ds"
   ]
  },
  {
   "cell_type": "code",
   "execution_count": 30,
   "metadata": {},
   "outputs": [
    {
     "data": {
      "text/plain": [
       "<xarray.DataArray 'temperature' (row: 16232)>\n",
       "array([14.3976, 14.4236, 14.4596, ...,  4.4004,  4.3975,  4.3978])\n",
       "Coordinates:\n",
       "    depth      (row) float64 ...\n",
       "    time_uv    (row) datetime64[ns] ...\n",
       "    lon_uv     (row) float64 ...\n",
       "    longitude  (row) float64 ...\n",
       "    lat_uv     (row) float64 ...\n",
       "    time       (row) datetime64[ns] ...\n",
       "    latitude   (row) float64 ...\n",
       "Dimensions without coordinates: row\n",
       "Attributes:\n",
       "    _ChunkSizes:          1\n",
       "    actual_range:         [ 0.     17.2652]\n",
       "    ancillary_variables:  temperature_qc\n",
       "    colorBarMaximum:      32.0\n",
       "    colorBarMinimum:      0.0\n",
       "    instrument:           instrument_ctd\n",
       "    ioos_category:        Temperature\n",
       "    long_name:            Sea Water Temperature\n",
       "    observation_type:     measured\n",
       "    platform:             platform\n",
       "    source_variable:      sci_water_temp\n",
       "    standard_name:        sea_water_temperature\n",
       "    units:                degree_Celsius\n",
       "    valid_max:            40.0\n",
       "    valid_min:            -5.0"
      ]
     },
     "execution_count": 30,
     "metadata": {},
     "output_type": "execute_result"
    }
   ],
   "source": [
    "ds['temperature']"
   ]
  },
  {
   "cell_type": "code",
   "execution_count": 31,
   "metadata": {},
   "outputs": [],
   "source": [
    "data = ds['temperature'].values\n",
    "depth = ds['depth'].values\n",
    "\n",
    "mask = ~np.ma.masked_invalid(data).mask"
   ]
  },
  {
   "cell_type": "code",
   "execution_count": 32,
   "metadata": {},
   "outputs": [],
   "source": [
    "data = data[mask]\n",
    "depth = depth[mask]\n",
    "lon = ds['longitude'].values[mask]\n",
    "lat = ds['latitude'].values[mask]"
   ]
  },
  {
   "cell_type": "code",
   "execution_count": 33,
   "metadata": {},
   "outputs": [],
   "source": [
    "import warnings\n",
    "\n",
    "\n",
    "with warnings.catch_warnings():\n",
    "    warnings.simplefilter('ignore')\n",
    "    mask = depth <= 5\n",
    "\n",
    "data = data[mask]\n",
    "depth = depth[mask]\n",
    "lon = lon[mask]\n",
    "lat = lat[mask]"
   ]
  },
  {
   "cell_type": "code",
   "execution_count": 34,
   "metadata": {},
   "outputs": [
    {
     "data": {
      "image/png": "[encoded data removed]",
      "text/plain": [
       "<matplotlib.figure.Figure at 0x7f12b5cc2898>"
      ]
     },
     "metadata": {},
     "output_type": "display_data"
    }
   ],
   "source": [
    "%matplotlib inline\n",
    "import matplotlib.pyplot as plt\n",
    "import cartopy.crs as ccrs\n",
    "\n",
    "\n",
    "extent = (\n",
    "    ds.geospatial_lon_min-dx, ds.geospatial_lon_max+dx,\n",
    "    ds.geospatial_lat_min-dy, ds.geospatial_lat_max+dy\n",
    ")\n",
    "fig, ax = make_map(extent)\n",
    "\n",
    "cs = ax.scatter(lon, lat, c=data, s=50, alpha=0.5, edgecolor='none')\n",
    "kw = dict(orientation='vertical', fraction=0.1,\n",
    "          shrink=0.9, extend='both')\n",
    "cbar = fig.colorbar(cs, **kw)"
   ]
  }
 ],
 "metadata": {
  "_draft": {
   "nbviewer_url": "https://gist.github.com/7e5eab16282538d11fdab7de5bd0c474"
  },
  "gist": {
   "data": {
    "description": "ERDDAP_advanced_glider_search.ipynb",
    "public": true
   },
   "id": "7e5eab16282538d11fdab7de5bd0c474"
  },
  "gist_id": "3f0f25b13ade0c64c84607bd92903d1b",
  "kernelspec": {
   "display_name": "Python 3",
   "language": "python",
   "name": "python3"
  },
  "language_info": {
   "codemirror_mode": {
    "name": "ipython",
    "version": 3
   },
   "file_extension": ".py",
   "mimetype": "text/x-python",
   "name": "python",
   "nbconvert_exporter": "python",
   "pygments_lexer": "ipython3",
   "version": "3.6.4"
  }
 },
 "nbformat": 4,
 "nbformat_minor": 1
}
