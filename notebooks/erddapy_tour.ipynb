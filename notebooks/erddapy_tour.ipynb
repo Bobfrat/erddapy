{
 "cells": [
  {
   "cell_type": "markdown",
   "metadata": {},
   "source": [
    "# Test `erddapy`"
   ]
  },
  {
   "cell_type": "code",
   "execution_count": 22,
   "metadata": {},
   "outputs": [],
   "source": [
    "from erddapy import ERDDAP\n",
    "\n",
    "\n",
    "server_url = 'https://data.ioos.us/gliders/erddap'\n",
    "\n",
    "e = ERDDAP(server_url=server_url)"
   ]
  },
  {
   "cell_type": "code",
   "execution_count": 28,
   "metadata": {},
   "outputs": [],
   "source": [
    "import pandas as pd\n",
    "\n",
    "\n",
    "df = pd.read_csv(e.search_url(response='csv', search_for='all'))"
   ]
  },
  {
   "cell_type": "code",
   "execution_count": 45,
   "metadata": {},
   "outputs": [
    {
     "data": {
      "text/plain": [
       "'We have 267 tabledap, 0 griddap, and 0 wms endpoints.'"
      ]
     },
     "execution_count": 45,
     "metadata": {},
     "output_type": "execute_result"
    }
   ],
   "source": [
    "'We have {} tabledap, {} griddap, and {} wms endpoints.'.format(\n",
    "    len(set(df['tabledap'].dropna())),\n",
    "    len(set(df['griddap'].dropna())),\n",
    "    len(set(df['wms'].dropna()))\n",
    ")"
   ]
  },
  {
   "cell_type": "markdown",
   "metadata": {},
   "source": [
    "### Let's filter that!\n",
    "\n",
    "### Helper function to parse `datetime` objects to `seconds since 1970-01-01T00:00:00Z`"
   ]
  },
  {
   "cell_type": "code",
   "execution_count": 2,
   "metadata": {},
   "outputs": [],
   "source": [
    "from datetime import datetime\n",
    "\n",
    "\n",
    "def parse_dates(date_time, calendar='standard'):\n",
    "    \"\"\"\n",
    "    FIXME: not sure how true this asssumption is!\n",
    "    ERDDAP can take a variety of time constraints, we chose to use only\n",
    "    `seconds since 1970-01-01T00:00:00Z` so the user can parse the dates in any way they like,\n",
    "    and provide a datetime object to this function.\n",
    "\n",
    "    \"\"\"\n",
    "    from netCDF4 import netcdftime\n",
    "\n",
    "    utime = netcdftime.utime('seconds since 1970-01-01T00:00:00Z', calendar=calendar)\n",
    "    return utime.date2num(date_time)"
   ]
  },
  {
   "cell_type": "markdown",
   "metadata": {},
   "source": [
    "### Search parameters"
   ]
  },
  {
   "cell_type": "code",
   "execution_count": 3,
   "metadata": {},
   "outputs": [],
   "source": [
    "min_time = datetime.strptime('2016-07-10T00:00:00Z', '%Y-%m-%dT%H:%M:%SZ')\n",
    "max_time = datetime.strptime('2017-02-10T00:00:00Z', '%Y-%m-%dT%H:%M:%SZ')\n",
    "min_time, max_time = parse_dates(min_time), parse_dates(max_time)\n",
    "\n",
    "min_lat, max_lat =  38.0, 41.0\n",
    "min_lon, max_lon = -72.0, -69.0\n",
    "\n",
    "standard_name = 'sea_water_temperature'"
   ]
  },
  {
   "cell_type": "markdown",
   "metadata": {},
   "source": [
    "### helper function to show HTML returns"
   ]
  },
  {
   "cell_type": "code",
   "execution_count": 4,
   "metadata": {},
   "outputs": [],
   "source": [
    "def show_iframe(src):\n",
    "    from IPython.display import HTML\n",
    "    iframe = '<iframe src=\"{src}\" width=\"100%\" height=\"950\"></iframe>'.format\n",
    "    return HTML(iframe(src=src))"
   ]
  },
  {
   "cell_type": "code",
   "execution_count": 5,
   "metadata": {},
   "outputs": [
    {
     "data": {
      "text/html": [
       "<iframe src=\"https://data.ioos.us/gliders/erddap/search/advanced.html?page=1&itemsPerPage=1000&protocol=(ANY)&cdm_data_type=(ANY)&institution=(ANY)&ioos_category=(ANY)&keywords=(ANY)&long_name=(ANY)&standard_name=sea_water_temperature&variableName=(ANY)&minLon=-72.0&maxLon=-69.0&minLat=38.0&maxLat=41.0&minTime=1468108800.0&maxTime=1486684800.0\" width=\"100%\" height=\"950\"></iframe>"
      ],
      "text/plain": [
       "<IPython.core.display.HTML object>"
      ]
     },
     "execution_count": 5,
     "metadata": {},
     "output_type": "execute_result"
    }
   ],
   "source": [
    "kw = dict(\n",
    "    standard_name=standard_name,\n",
    "    min_lat=min_lat,\n",
    "    max_lat=max_lat,\n",
    "    min_lon=min_lon,\n",
    "    max_lon=max_lon,\n",
    "    min_time=min_time,\n",
    "    max_time=max_time\n",
    ")\n",
    "\n",
    "search_url = e.search_url(response='html', **kw)\n",
    "\n",
    "show_iframe(search_url)"
   ]
  },
  {
   "cell_type": "markdown",
   "metadata": {},
   "source": [
    "### Let's use a response we can use programmatically"
   ]
  },
  {
   "cell_type": "code",
   "execution_count": 6,
   "metadata": {},
   "outputs": [
    {
     "name": "stdout",
     "output_type": "stream",
     "text": [
      "Found 5 Glider Datasets:\n",
      "blue-20160818T1448\n",
      "cp_336-20170116T1254\n",
      "silbo-20160413T1534\n",
      "sp022-20170209T1616\n",
      "whoi_406-20160902T1700\n"
     ]
    }
   ],
   "source": [
    "search_url = e.search_url(response='csv', **kw)\n",
    "search = pd.read_csv(search_url)\n",
    "gliders = search['Dataset ID'].values\n",
    "\n",
    "print('Found {} Glider Datasets:\\n{}'.format(len(gliders), '\\n'.join(gliders)))"
   ]
  },
  {
   "cell_type": "markdown",
   "metadata": {},
   "source": [
    "### We can use `info` to inspect the dataset"
   ]
  },
  {
   "cell_type": "code",
   "execution_count": 7,
   "metadata": {},
   "outputs": [
    {
     "data": {
      "text/html": [
       "<iframe src=\"https://data.ioos.us/gliders/erddap/info/blue-20160818T1448/index.html\" width=\"100%\" height=\"950\"></iframe>"
      ],
      "text/plain": [
       "<IPython.core.display.HTML object>"
      ]
     },
     "execution_count": 7,
     "metadata": {},
     "output_type": "execute_result"
    }
   ],
   "source": [
    "info_url = e.info_url(dataset_id=gliders[0], response='html')\n",
    "\n",
    "show_iframe(src=info_url)"
   ]
  },
  {
   "cell_type": "markdown",
   "metadata": {},
   "source": [
    "### Let's use the `csv` response again to manipulate the `info_url` data"
   ]
  },
  {
   "cell_type": "code",
   "execution_count": 8,
   "metadata": {},
   "outputs": [
    {
     "data": {
      "text/html": [
       "<div>\n",
       "<style>\n",
       "    .dataframe thead tr:only-child th {\n",
       "        text-align: right;\n",
       "    }\n",
       "\n",
       "    .dataframe thead th {\n",
       "        text-align: left;\n",
       "    }\n",
       "\n",
       "    .dataframe tbody tr th {\n",
       "        vertical-align: top;\n",
       "    }\n",
       "</style>\n",
       "<table border=\"1\" class=\"dataframe\">\n",
       "  <thead>\n",
       "    <tr style=\"text-align: right;\">\n",
       "      <th></th>\n",
       "      <th>Row Type</th>\n",
       "      <th>Variable Name</th>\n",
       "      <th>Attribute Name</th>\n",
       "      <th>Data Type</th>\n",
       "      <th>Value</th>\n",
       "    </tr>\n",
       "  </thead>\n",
       "  <tbody>\n",
       "    <tr>\n",
       "      <th>0</th>\n",
       "      <td>attribute</td>\n",
       "      <td>NC_GLOBAL</td>\n",
       "      <td>acknowledgement</td>\n",
       "      <td>String</td>\n",
       "      <td>This deployment supported by NOAA U.S. IOOS</td>\n",
       "    </tr>\n",
       "    <tr>\n",
       "      <th>1</th>\n",
       "      <td>attribute</td>\n",
       "      <td>NC_GLOBAL</td>\n",
       "      <td>cdm_data_type</td>\n",
       "      <td>String</td>\n",
       "      <td>TrajectoryProfile</td>\n",
       "    </tr>\n",
       "    <tr>\n",
       "      <th>2</th>\n",
       "      <td>attribute</td>\n",
       "      <td>NC_GLOBAL</td>\n",
       "      <td>cdm_profile_variables</td>\n",
       "      <td>String</td>\n",
       "      <td>profile_id, time, latitude, longitude, time_uv...</td>\n",
       "    </tr>\n",
       "    <tr>\n",
       "      <th>3</th>\n",
       "      <td>attribute</td>\n",
       "      <td>NC_GLOBAL</td>\n",
       "      <td>cdm_trajectory_variables</td>\n",
       "      <td>String</td>\n",
       "      <td>trajectory, wmo_id</td>\n",
       "    </tr>\n",
       "    <tr>\n",
       "      <th>4</th>\n",
       "      <td>attribute</td>\n",
       "      <td>NC_GLOBAL</td>\n",
       "      <td>comment</td>\n",
       "      <td>String</td>\n",
       "      <td>Glider deployed by the University of Massachus...</td>\n",
       "    </tr>\n",
       "  </tbody>\n",
       "</table>\n",
       "</div>"
      ],
      "text/plain": [
       "    Row Type Variable Name            Attribute Name Data Type  \\\n",
       "0  attribute     NC_GLOBAL           acknowledgement    String   \n",
       "1  attribute     NC_GLOBAL             cdm_data_type    String   \n",
       "2  attribute     NC_GLOBAL     cdm_profile_variables    String   \n",
       "3  attribute     NC_GLOBAL  cdm_trajectory_variables    String   \n",
       "4  attribute     NC_GLOBAL                   comment    String   \n",
       "\n",
       "                                               Value  \n",
       "0        This deployment supported by NOAA U.S. IOOS  \n",
       "1                                  TrajectoryProfile  \n",
       "2  profile_id, time, latitude, longitude, time_uv...  \n",
       "3                                 trajectory, wmo_id  \n",
       "4  Glider deployed by the University of Massachus...  "
      ]
     },
     "execution_count": 8,
     "metadata": {},
     "output_type": "execute_result"
    }
   ],
   "source": [
    "info_url = e.info_url(dataset_id=gliders[0], response='csv')\n",
    "\n",
    "info = pd.read_csv(info_url)\n",
    "\n",
    "info.head()"
   ]
  },
  {
   "cell_type": "code",
   "execution_count": 9,
   "metadata": {},
   "outputs": [
    {
     "data": {
      "text/plain": [
       "'profile_id, time, latitude, longitude, time_uv, lat_uv, lon_uv, u, v'"
      ]
     },
     "execution_count": 9,
     "metadata": {},
     "output_type": "execute_result"
    }
   ],
   "source": [
    "''.join(info.loc[info['Attribute Name'] == 'cdm_profile_variables', 'Value'])"
   ]
  },
  {
   "cell_type": "markdown",
   "metadata": {},
   "source": [
    "## There is a convenience method to inspect the `dataset_id` variables"
   ]
  },
  {
   "cell_type": "code",
   "execution_count": 10,
   "metadata": {},
   "outputs": [
    {
     "data": {
      "text/plain": [
       "['temperature']"
      ]
     },
     "execution_count": 10,
     "metadata": {},
     "output_type": "execute_result"
    }
   ],
   "source": [
    "e.get_var_by_attr(dataset_id=gliders[0], standard_name=standard_name)"
   ]
  },
  {
   "cell_type": "markdown",
   "metadata": {},
   "source": [
    "`get_var_by_attr` caches the last response in case the user needs to make multiple requests,\n",
    "but it will loose its state when a new request is made. See the times below."
   ]
  },
  {
   "cell_type": "code",
   "execution_count": 11,
   "metadata": {},
   "outputs": [
    {
     "name": "stdout",
     "output_type": "stream",
     "text": [
      "CPU times: user 51 µs, sys: 22 µs, total: 73 µs\n",
      "Wall time: 78.2 µs\n"
     ]
    },
    {
     "data": {
      "text/plain": [
       "['temperature']"
      ]
     },
     "execution_count": 11,
     "metadata": {},
     "output_type": "execute_result"
    }
   ],
   "source": [
    "%%time\n",
    "\n",
    "# First one, slow.\n",
    "e.get_var_by_attr(\n",
    "    dataset_id='blue-20160818T1448',\n",
    "    standard_name='sea_water_temperature'\n",
    ")"
   ]
  },
  {
   "cell_type": "code",
   "execution_count": 12,
   "metadata": {},
   "outputs": [
    {
     "name": "stdout",
     "output_type": "stream",
     "text": [
      "CPU times: user 87 µs, sys: 37 µs, total: 124 µs\n",
      "Wall time: 129 µs\n"
     ]
    },
    {
     "data": {
      "text/plain": [
       "['salinity']"
      ]
     },
     "execution_count": 12,
     "metadata": {},
     "output_type": "execute_result"
    }
   ],
   "source": [
    "%%time\n",
    "\n",
    "# Second one on the same glider, fast.\n",
    "e.get_var_by_attr(\n",
    "    dataset_id='blue-20160818T1448',\n",
    "    standard_name='sea_water_practical_salinity'\n",
    ")"
   ]
  },
  {
   "cell_type": "code",
   "execution_count": 13,
   "metadata": {},
   "outputs": [
    {
     "name": "stdout",
     "output_type": "stream",
     "text": [
      "CPU times: user 94.1 ms, sys: 336 µs, total: 94.4 ms\n",
      "Wall time: 1.52 s\n"
     ]
    },
    {
     "data": {
      "text/plain": [
       "['salinity']"
      ]
     },
     "execution_count": 13,
     "metadata": {},
     "output_type": "execute_result"
    }
   ],
   "source": [
    "%%time\n",
    "\n",
    "# New one, slow.\n",
    "e.get_var_by_attr(\n",
    "    dataset_id='cp_336-20170116T1254',\n",
    "    standard_name='sea_water_practical_salinity'\n",
    ")"
   ]
  },
  {
   "cell_type": "markdown",
   "metadata": {},
   "source": [
    "### Let's check all the `dataset_id`s we got for the variables with `standard_names`"
   ]
  },
  {
   "cell_type": "code",
   "execution_count": 14,
   "metadata": {},
   "outputs": [],
   "source": [
    "variables = [e.get_var_by_attr(dataset_id=glider, standard_name=lambda v: v is not None) for glider in gliders]"
   ]
  },
  {
   "cell_type": "code",
   "execution_count": 15,
   "metadata": {},
   "outputs": [
    {
     "data": {
      "text/plain": [
       "{'conductivity',\n",
       " 'conductivity_qc',\n",
       " 'density',\n",
       " 'density_qc',\n",
       " 'depth',\n",
       " 'depth_qc',\n",
       " 'lat_uv',\n",
       " 'lat_uv_qc',\n",
       " 'latitude',\n",
       " 'latitude_qc',\n",
       " 'lon_uv',\n",
       " 'lon_uv_qc',\n",
       " 'longitude',\n",
       " 'longitude_qc',\n",
       " 'precise_lat',\n",
       " 'precise_lon',\n",
       " 'precise_time',\n",
       " 'precise_time_qc',\n",
       " 'pressure',\n",
       " 'pressure_qc',\n",
       " 'salinity',\n",
       " 'salinity_qc',\n",
       " 'temperature',\n",
       " 'temperature_qc',\n",
       " 'time',\n",
       " 'time_qc',\n",
       " 'time_uv',\n",
       " 'time_uv_qc',\n",
       " 'u',\n",
       " 'u_qc',\n",
       " 'v',\n",
       " 'v_qc'}"
      ]
     },
     "execution_count": 15,
     "metadata": {},
     "output_type": "execute_result"
    }
   ],
   "source": [
    "common_variables = set(variables[0]).intersection(*variables[1:])\n",
    "\n",
    "common_variables"
   ]
  },
  {
   "cell_type": "markdown",
   "metadata": {},
   "source": [
    "### Last but not least, the download endpoint"
   ]
  },
  {
   "cell_type": "code",
   "execution_count": 16,
   "metadata": {},
   "outputs": [
    {
     "data": {
      "text/html": [
       "<iframe src=\"https://data.ioos.us/gliders/erddap/tabledap/blue-20160818T1448.html?density,depth,temperature,temperature_qc,time_uv_qc,pressure,pressure_qc,lat_uv_qc,precise_lon,lon_uv,lon_uv_qc,salinity_qc,depth_qc,latitude_qc,u,longitude,conductivity,v,precise_lat,salinity,lat_uv,precise_time,precise_time_qc,conductivity_qc,v_qc,time_uv,time_qc,density_qc,longitude_qc,time,u_qc,latitude&time>=1468108800.0&time<=1486684800.0&latitude>=38.0&latitude<=41.0&longitude>=-72.0&longitude<=-69.0\" width=\"100%\" height=\"950\"></iframe>"
      ],
      "text/plain": [
       "<IPython.core.display.HTML object>"
      ]
     },
     "execution_count": 16,
     "metadata": {},
     "output_type": "execute_result"
    }
   ],
   "source": [
    "# I don't think inequalities are supported by REST.\n",
    "# For simplicity I left them as part of the user input.\n",
    "# Some googling tells me that the \"correct\" should be:\n",
    "# time=min_time&gt=min_time&le=max_time\n",
    "# not sure if ERDDAP supports that.\n",
    "kwargs = {\n",
    "    'time>=': min_time,\n",
    "    'time<=': max_time,\n",
    "    'latitude>=': min_lat,\n",
    "    'latitude<=': max_lat,\n",
    "    'longitude>=': min_lon,\n",
    "    'longitude<=': max_lon,\n",
    "}\n",
    "\n",
    "\n",
    "\n",
    "download_url = e.download_url(dataset_id=gliders[0], variables=common_variables, response='html', **kwargs)\n",
    "\n",
    "show_iframe(src=download_url)"
   ]
  },
  {
   "cell_type": "markdown",
   "metadata": {},
   "source": [
    "### Again, using the `csv` to get a handy `pandas.DataFrame`"
   ]
  },
  {
   "cell_type": "code",
   "execution_count": 17,
   "metadata": {},
   "outputs": [
    {
     "name": "stdout",
     "output_type": "stream",
     "text": [
      "Failed to download silbo-20160413T1534\n",
      "Failed to download sp022-20170209T1616\n"
     ]
    }
   ],
   "source": [
    "from urllib.error import HTTPError\n",
    "\n",
    "\n",
    "def download_csv(url):\n",
    "    return pd.read_csv(url, index_col='time', parse_dates=True, skiprows=[1])\n",
    "\n",
    "\n",
    "dfs = {}\n",
    "for glider in gliders:\n",
    "    download_url = e.download_url(dataset_id=glider, variables=common_variables, response='csv', **kwargs)\n",
    "    try:\n",
    "        dfs.update({glider: download_csv(download_url)})\n",
    "    except HTTPError:\n",
    "        print('Failed to download {}'.format(glider))\n",
    "        continue"
   ]
  },
  {
   "cell_type": "code",
   "execution_count": 18,
   "metadata": {},
   "outputs": [],
   "source": [
    "import numpy as np\n",
    "\n",
    "# mask values that should be masked upstream values.\n",
    "for glider in dfs.keys():\n",
    "    dfs[glider].loc[dfs[glider]['salinity_qc'] == 9, 'salinity'] = np.NaN\n",
    "    dfs[glider].loc[dfs[glider]['pressure_qc'] == 9, 'pressure'] = np.NaN\n",
    "    dfs[glider].loc[dfs[glider]['temperature_qc'] == 9, 'temperature'] = np.NaN\n",
    "    dfs[glider].loc[dfs[glider]['salinity'] <= 0, 'salinity'] = np.NaN"
   ]
  },
  {
   "cell_type": "code",
   "execution_count": 19,
   "metadata": {},
   "outputs": [
    {
     "data": {
      "image/png": "[encoded data removed]",
      "text/plain": [
       "<matplotlib.figure.Figure at 0x7feda18e9898>"
      ]
     },
     "metadata": {},
     "output_type": "display_data"
    }
   ],
   "source": [
    "%matplotlib inline\n",
    "import matplotlib.pyplot as plt\n",
    "import cartopy.crs as ccrs\n",
    "\n",
    "fig, ax = plt.subplots(\n",
    "    figsize=(9, 9),\n",
    "    subplot_kw=dict(projection=ccrs.PlateCarree())\n",
    ")\n",
    "ax.coastlines(resolution='10m')\n",
    "dx = dy = 0.5\n",
    "ax.set_extent([min_lon-dx, max_lon+dx, min_lat-dy, max_lat+dy])\n",
    "\n",
    "for glider, df in dfs.items():\n",
    "    ax.plot(df['longitude'], df['latitude'], label=glider)\n",
    "\n",
    "leg = ax.legend()"
   ]
  },
  {
   "cell_type": "code",
   "execution_count": 20,
   "metadata": {},
   "outputs": [
    {
     "data": {
      "image/png": "[encoded data removed]",
      "text/plain": [
       "<matplotlib.figure.Figure at 0x7feda183f278>"
      ]
     },
     "metadata": {},
     "output_type": "display_data"
    }
   ],
   "source": [
    "def glider_scatter(df, ax, glider):\n",
    "    ax.scatter(df['temperature'], df['salinity'],\n",
    "               s=10, alpha=0.5, label=glider)\n",
    "\n",
    "fig, ax = plt.subplots(figsize=(9, 9))\n",
    "ax.set_ylabel('salinity')\n",
    "ax.set_xlabel('temperature')\n",
    "ax.grid(True)\n",
    "\n",
    "for glider, df in dfs.items():\n",
    "    glider_scatter(df, ax, glider)\n",
    "\n",
    "leg = ax.legend()"
   ]
  },
  {
   "cell_type": "markdown",
   "metadata": {},
   "source": [
    "# Extras\n",
    "\n",
    "- OPeNDAP"
   ]
  },
  {
   "cell_type": "code",
   "execution_count": 21,
   "metadata": {},
   "outputs": [
    {
     "name": "stdout",
     "output_type": "stream",
     "text": [
      "U.S. IOOS Mid-Atlantic Regional Association Coastal Ocean Observing System (MARACOOS) glider deployment.  This is the second of a series of yearly seasonal deployments to survey the physical and biological properties of Mid-Atlantic Bight coastal waters.  The glider was deployed in Rhode Island Sound and will transect to Tuckerton, NJ.  This dataset contains physical (TS) data only.  Optical and oxygen data to be added at a later date.\n"
     ]
    }
   ],
   "source": [
    "from netCDF4 import Dataset\n",
    "\n",
    "opendap_url = e.opendap_url(gliders[0])\n",
    "with Dataset(opendap_url) as nc:\n",
    "    print(nc.summary)"
   ]
  }
 ],
 "metadata": {
  "_draft": {
   "nbviewer_url": "https://gist.github.com/7e5eab16282538d11fdab7de5bd0c474"
  },
  "gist": {
   "data": {
    "description": "ERDDAP_advanced_glider_search.ipynb",
    "public": true
   },
   "id": "7e5eab16282538d11fdab7de5bd0c474"
  },
  "gist_id": "3f0f25b13ade0c64c84607bd92903d1b",
  "kernelspec": {
   "display_name": "Python [default]",
   "language": "python",
   "name": "python3"
  },
  "language_info": {
   "codemirror_mode": {
    "name": "ipython",
    "version": 3
   },
   "file_extension": ".py",
   "mimetype": "text/x-python",
   "name": "python",
   "nbconvert_exporter": "python",
   "pygments_lexer": "ipython3",
   "version": "3.6.2"
  }
 },
 "nbformat": 4,
 "nbformat_minor": 1
}
