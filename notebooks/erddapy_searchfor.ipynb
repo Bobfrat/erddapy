{
 "cells": [
  {
   "cell_type": "code",
   "execution_count": 1,
   "metadata": {},
   "outputs": [],
   "source": [
    "from erddapy import ERDDAP\n",
    "\n",
    "\n",
    "server_url = 'http://upwell.pfeg.noaa.gov/erddap'\n",
    "\n",
    "e = ERDDAP(server_url=server_url)"
   ]
  },
  {
   "cell_type": "code",
   "execution_count": 2,
   "metadata": {},
   "outputs": [],
   "source": [
    "def to_df(url):\n",
    "    import pandas as pd\n",
    "    return pd.read_csv(url)"
   ]
  },
  {
   "cell_type": "code",
   "execution_count": 3,
   "metadata": {},
   "outputs": [
    {
     "data": {
      "text/plain": [
       "0    northerngulfinstitute_a8f3_c2d4_2227\n",
       "1                     whoi_7a97_cb6f_a9db\n",
       "2                     whoi_4a75_e5e1_6640\n",
       "3    northerngulfinstitute_1412_d11d_1e9b\n",
       "Name: Dataset ID, dtype: object"
      ]
     },
     "execution_count": 3,
     "metadata": {},
     "output_type": "execute_result"
    }
   ],
   "source": [
    "search_for = 'fukushima'\n",
    "\n",
    "search_url = e.search_url(search_for=search_for, response='csv')\n",
    "\n",
    "to_df(search_url)['Dataset ID']"
   ]
  },
  {
   "cell_type": "code",
   "execution_count": 4,
   "metadata": {},
   "outputs": [
    {
     "data": {
      "text/plain": [
       "'http://upwell.pfeg.noaa.gov/erddap/search/advanced.csv?page=1&itemsPerPage=1000&protocol=(ANY)&cdm_data_type=(ANY)&institution=(ANY)&ioos_category=(ANY)&keywords=(ANY)&long_name=(ANY)&standard_name=(ANY)&variableName=(ANY)&minLon=(ANY)&maxLon=(ANY)&minLat=(ANY)&maxLat=(ANY)&minTime=(ANY)&maxTime=(ANY)&searchFor=fukushima'"
      ]
     },
     "execution_count": 4,
     "metadata": {},
     "output_type": "execute_result"
    }
   ],
   "source": [
    "search_url"
   ]
  },
  {
   "cell_type": "code",
   "execution_count": 5,
   "metadata": {},
   "outputs": [
    {
     "data": {
      "text/plain": [
       "0    northerngulfinstitute_a8f3_c2d4_2227\n",
       "1                     whoi_7a97_cb6f_a9db\n",
       "Name: Dataset ID, dtype: object"
      ]
     },
     "execution_count": 5,
     "metadata": {},
     "output_type": "execute_result"
    }
   ],
   "source": [
    "search_for = 'fukushima velocity'\n",
    "\n",
    "search_url = e.search_url(search_for=search_for, response='csv')\n",
    "\n",
    "to_df(search_url)['Dataset ID']"
   ]
  },
  {
   "cell_type": "code",
   "execution_count": 6,
   "metadata": {},
   "outputs": [
    {
     "data": {
      "text/plain": [
       "0                     whoi_4a75_e5e1_6640\n",
       "1    northerngulfinstitute_1412_d11d_1e9b\n",
       "Name: Dataset ID, dtype: object"
      ]
     },
     "execution_count": 6,
     "metadata": {},
     "output_type": "execute_result"
    }
   ],
   "source": [
    "search_for = 'fukushima -velocity'\n",
    "\n",
    "search_url = e.search_url(search_for=search_for, response='csv')\n",
    "\n",
    "to_df(search_url)['Dataset ID']"
   ]
  }
 ],
 "metadata": {
  "_draft": {
   "nbviewer_url": "https://gist.github.com/8ec655651bf16b6e0328367caff971c1"
  },
  "gist": {
   "data": {
    "description": "ERDDAP searchFor",
    "public": true
   },
   "id": "8ec655651bf16b6e0328367caff971c1"
  },
  "gist_id": "3f0f25b13ade0c64c84607bd92903d1b",
  "kernelspec": {
   "display_name": "Python [default]",
   "language": "python",
   "name": "python3"
  },
  "language_info": {
   "codemirror_mode": {
    "name": "ipython",
    "version": 3
   },
   "file_extension": ".py",
   "mimetype": "text/x-python",
   "name": "python",
   "nbconvert_exporter": "python",
   "pygments_lexer": "ipython3",
   "version": "3.6.2"
  }
 },
 "nbformat": 4,
 "nbformat_minor": 1
}
